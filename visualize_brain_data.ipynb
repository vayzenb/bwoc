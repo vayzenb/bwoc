{
 "cells": [
  {
   "cell_type": "code",
   "execution_count": 1,
   "metadata": {},
   "outputs": [
    {
     "name": "stderr",
     "output_type": "stream",
     "text": [
      "/home/vayzenbe/anaconda3/envs/fmri_new/lib/python3.8/site-packages/nilearn/input_data/__init__.py:27: FutureWarning: The import path 'nilearn.input_data' is deprecated in version 0.9. Importing from 'nilearn.input_data' will be possible at least until release 0.13.0. Please import from 'nilearn.maskers' instead.\n",
      "  warnings.warn(message, FutureWarning)\n"
     ]
    }
   ],
   "source": [
    "import sys\n",
    "curr_dir = '/user_data/vayzenbe/GitHub_Repos/bwoc'\n",
    "sys.path.insert(0, curr_dir)\n",
    "import pandas as pd\n",
    "from nilearn import image, plotting, input_data, glm, maskers\n",
    "#from nilearn.glm import threshold_stats_img\n",
    "import numpy as np\n",
    "\n",
    "\n",
    "import nibabel as nib\n",
    "\n",
    "\n",
    "import os\n",
    "import statsmodels.api as sm\n",
    "from nilearn.datasets import load_mni152_brain_mask, load_mni152_template\n",
    "import matplotlib.pyplot as plt\n",
    "import pdb\n",
    "from scipy.stats import gamma\n",
    "import warnings\n",
    "\n",
    "import bwoc_params as params\n",
    "\n",
    "warnings.filterwarnings('ignore')"
   ]
  },
  {
   "cell_type": "code",
   "execution_count": null,
   "metadata": {},
   "outputs": [],
   "source": [
    "sub = 'spaceloc1001'\n",
    "\n",
    "bold_dir = f'{params.study_dir}/derivatives/fc'"
   ]
  }
 ],
 "metadata": {
  "kernelspec": {
   "display_name": "fmri_new",
   "language": "python",
   "name": "python3"
  },
  "language_info": {
   "codemirror_mode": {
    "name": "ipython",
    "version": 3
   },
   "file_extension": ".py",
   "mimetype": "text/x-python",
   "name": "python",
   "nbconvert_exporter": "python",
   "pygments_lexer": "ipython3",
   "version": "3.8.12"
  },
  "orig_nbformat": 4
 },
 "nbformat": 4,
 "nbformat_minor": 2
}
